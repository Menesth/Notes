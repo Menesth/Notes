{
 "cells": [
  {
   "cell_type": "markdown",
   "id": "8c11eaeb",
   "metadata": {},
   "source": [
    "Wald's Theorem is a simple result of probability theory that can be proved using martingale stopping theorem.\n",
    "\n",
    "Theorem: (Wald)\n",
    "\n",
    "Let $(X_i)_{i \\geq 1}$ be i.i.d. random variables with $\\mathbb{E}(\\vert X \\vert) < \\infty$. Let $T$ be a stopping time for the process $\\lbrace X_i, i \\geq 1 \\rbrace$. If $\\mathbb{E}(T) < \\infty$, then\n",
    "\\begin{equation*}\n",
    "    \\mathbb{E}\\left( \\sum_{i = 1}^T X_i \\right) =  \\mathbb{E}(T)  \\mathbb{E}(X).\n",
    "\\end{equation*}\n",
    "\n",
    "Idea of the proof: consider the martingale\n",
    "\\begin{equation*}\n",
    "    Z_n = \\sum_{i = 1}^n (X_i - \\mu)\n",
    "\\end{equation*}\n",
    "where $\\mu = \\mathbb{E}(X)$. Note this is, indeed, a martingale since\n",
    "\\begin{equation*}\n",
    "    \\mathbb{E}(\\vert Z_{n} \\vert) \\leq 2 n \\mathbb{E}(\\vert X \\vert) < \\infty\n",
    "\\end{equation*}\n",
    "and\n",
    "\\begin{equation*}\n",
    "    \\mathbb{E}(Z_{n + 1} \\vert Z_1, \\ldots, Z_n) = \\mathbb{E}(Z_n + X_{n + 1} - \\mu \\vert Z_1, \\ldots, Z_n) = Z_n + \\mathbb{E}(X_{n + 1} - \\mu \\vert Z_1, \\ldots, Z_n) = Z_n + \\mathbb{E}(X_{n + 1}) - \\mu = Z_n\n",
    "\\end{equation*}\n",
    "because the $X_i$ are i.i.d. The assumptions $\\mathbb{E}(T), \\mathbb{E}(\\vert X \\vert) < \\infty$ ensure we can apply martingale stopping theorem, which yields\n",
    "\\begin{equation*}\n",
    "    \\mathbb{E}(Z_{T}) = \\mathbb{E}(Z_1) = 0.\n",
    "\\end{equation*}\n",
    "On the other hand\n",
    "\\begin{equation*}\n",
    "    \\mathbb{E}(Z_{T}) = \\mathbb{E} \\left( \\sum_{i = 1}^T X_i \\right) - \\mu \\mathbb{E}(T) = \\mathbb{E} \\left( \\sum_{i = 1}^T X_i \\right) - \\mathbb{E}(T) \\mathbb{E}(T)\n",
    "\\end{equation*}\n",
    "and this proves the theorem."
   ]
  },
  {
   "cell_type": "markdown",
   "id": "0c792954",
   "metadata": {},
   "source": [
    "Computing the mean time unti a given pattern occurs\n",
    "\n",
    "Suppose that a sequence of independent and identically distributed discrete random variables is observed sequentially, one at each day. What is the expected number that must observed until some given sequence appears ?\n",
    "\n",
    "For example: suppose each outcome is either $0, 1$ or $2$ with respective probability $\\frac{1}{2}$, $\\frac{1}{3}$ and $\\frac{1}{6}$ and we want to compute the expected time untile the run $0 2 0$ occurs.\n",
    "\n",
    "Basic idea: we imagine a sequence of gamblers, each initially having $1$ unit. Gambler $i$ starts gambling on day $i$ and gambles that $0$ will occur on day $i$. If he wins (with probability $1/2$) he wins $2$ times his bet (here $1$) and has $2 \\times 1 = 2$ dollars. If he looses, he looses all his money. Assume he wins, then he gambles $2 \\times 1$ that a $2$ will occur on day $i+1$. If he wins ((with probability $1/6$)) he wins $6$ times his bet (here $2$) and has $6 \\times 2 = 12$ dollars. If he looses, he looses all his money. Assume he won again, then he gambles on day $i + 2$ ($12$ dollars, all his money) that a $0$ will occur. Again, if he wins (with probability $1/2$) he wins $2$ times his bet (here $12$) and has $2 \\times 12 = 24$ dollars. If looses, he loose all his money.\n",
    "\n",
    "Hence each gambler will lose $1$ if any of his bet fails and will win $24 - 1$ if all three bets succeed.\n",
    "\n",
    "Let $X_n$ be the total winning of the house after $n$ days. If the sequence $0, 2 0$ appears on day $T$, then\n",
    "\\begin{equation*}\n",
    "    X_T = \\sum_{i = 1}^T G_i = (T - 3) - 23 - 1 + 1 = T - 26.\n",
    "\\end{equation*}\n",
    "Here $T - 3$ represent the first $T - 3$ gamblers that lost their bets (hence gave $+ (T - 3)$ to the house), $-23$ is the money gambler $T-2$ wons (he won all three bets) and next $-1$ is here because gambler $T-1$ lost and an additional $+1 is here to account the fact gambler $T$ actually won his bet.\n",
    "\n",
    "Using Wald's Theorem, we have\n",
    "\\begin{equation*}\n",
    "    \\mathbb{E}(X_T) = \\mathbb{E}(G_i) \\mathbb{E}(T)\n",
    "\\end{equation*}\n",
    "with $\\mathbb{E}(G_i) = (24 - 1) * \\frac{1}{24} - 1 * \\frac{23}{24} = 0$ (each gambler wins $24 - 1$ with probability $1/2 * 1/6 * 1/2 = 1/24$ and looses $1$ with probability $1 - 1/24 = 23/24$) and, using the expression for $X_T$, we have\n",
    "\\begin{equation*}\n",
    "    0 = \\mathbb{E}(X_T) =  \\mathbb{E}(T) - 26.\n",
    "\\end{equation*}\n",
    "Therefore $\\mathbb{E}(T) = 26$.\n",
    "\n",
    "Using Monte-Carlo simulation, we can estimate $\\mathbb{E}(T)$ and check if it matches our theoretical value."
   ]
  },
  {
   "cell_type": "code",
   "execution_count": 30,
   "id": "bd7c02d2",
   "metadata": {},
   "outputs": [
    {
     "name": "stderr",
     "output_type": "stream",
     "text": [
      "100%|██████████| 100000/100000 [00:03<00:00, 26116.30it/s]"
     ]
    },
    {
     "name": "stdout",
     "output_type": "stream",
     "text": [
      "Estimated expected number of days = 25.90 \n",
      "Theoretical expected number of days = 26\n"
     ]
    },
    {
     "name": "stderr",
     "output_type": "stream",
     "text": [
      "\n"
     ]
    }
   ],
   "source": [
    "import random\n",
    "from collections import deque\n",
    "from tqdm import trange\n",
    "\n",
    "EPOCHS = 100000\n",
    "values = [0, 1, 2]\n",
    "probabilities = [1/2, 1/3, 1/6]\n",
    "counter = 0\n",
    "for _ in trange(EPOCHS):\n",
    "    queue = deque()\n",
    "    num_iter = 0\n",
    "    Continue = True\n",
    "    while Continue:\n",
    "        while (len(queue) > 2): queue.popleft()\n",
    "        num_iter += 1\n",
    "        sample_value = random.choices(values, weights=probabilities, k=1)[0]\n",
    "        queue.append(sample_value)\n",
    "        if list(queue) == [0, 2, 0]:\n",
    "            counter += num_iter\n",
    "            Continue = False\n",
    "print(f\"Estimated expected number of days = {counter / EPOCHS :0.2f} \\nTheoretical expected number of days = {26}\")"
   ]
  },
  {
   "cell_type": "markdown",
   "id": "352ec2fd",
   "metadata": {},
   "source": [
    "Expected number of steps to reach a position in a non-symmetric random walk\n",
    "\n",
    "Consider an individual who starts at position $0$ and, at each step, either moves $1$ position to the right with probability $p$ or $1$ position to the left with probability $q = 1 - p$. Assume that the successive movements are independent and assume $p > 1/2$. We want to compute the expected number of steps it takes until the individual reaches position $i$, for some given $i > 0$.\n",
    "\n",
    "Set\n",
    "\\begin{equation*}\n",
    "    S_n = \\sum_{i = 1}^n X_i\n",
    "\\end{equation*}\n",
    "with i.i.d. $X_i$ taking value $1$ with probability $p$ and value $-1$ with probability $q$. Let $T$ be the number steps it takes until the individual reaches position $i$. By Wald's Theorem, we have\n",
    "\\begin{equation*}\n",
    "    \\mathbb{E}(S_T) = \\mathbb{E} \\left( \\sum_{i = 1}^T X_i \\right) = \\mathbb{E}(T) \\mathbb{E}(X)\n",
    "\\end{equation*}\n",
    "with $\\mathbb{E}(X) = p - q = 2p - 1$ and $S_T = i$. Therefore\n",
    "\\begin{equation*}\n",
    "    \\mathbb{E}(T) = \\frac{i}{2p - 1}.\n",
    "\\end{equation*}\n",
    "Note: this method doesn't apply if $p = 1/2$ (in which case $\\mathbb{E}(X) = 0$). However, we can derive $\\mathbb{E}(T)$ by considering the martingale $Z_n = S_n^2 - n$ and using martingale stopping theorem.\n",
    "\n",
    "Again, using Monte-Carlo simulation, we can estimate $\\mathbb{E}(T)$ and check if it matches our theoretical value."
   ]
  },
  {
   "cell_type": "code",
   "execution_count": 31,
   "id": "500ed8a2",
   "metadata": {},
   "outputs": [
    {
     "name": "stderr",
     "output_type": "stream",
     "text": [
      "100%|██████████| 100000/100000 [00:03<00:00, 30091.98it/s]"
     ]
    },
    {
     "name": "stdout",
     "output_type": "stream",
     "text": [
      "Estimated expected number of days = 154.94 \n",
      "Theoretical expected number of days = 155.00000000000003\n"
     ]
    },
    {
     "name": "stderr",
     "output_type": "stream",
     "text": [
      "\n"
     ]
    }
   ],
   "source": [
    "EPOCHS = 100000\n",
    "\n",
    "p = 0.6\n",
    "i = 31\n",
    "\n",
    "counter = 0\n",
    "for _ in trange(EPOCHS):\n",
    "    x = 0\n",
    "    nb_moves = 0\n",
    "    while (x < i):\n",
    "        nb_moves += 1\n",
    "        pr = random.random()\n",
    "        if pr < p: x += 1\n",
    "        else: x -= 1\n",
    "    counter += nb_moves\n",
    "        \n",
    "print(f\"Estimated expected number of days = {counter / EPOCHS :0.2f} \\nTheoretical expected number of days = {i / (2 * p - 1)}\")"
   ]
  }
 ],
 "metadata": {
  "kernelspec": {
   "display_name": "Python 3",
   "language": "python",
   "name": "python3"
  },
  "language_info": {
   "codemirror_mode": {
    "name": "ipython",
    "version": 3
   },
   "file_extension": ".py",
   "mimetype": "text/x-python",
   "name": "python",
   "nbconvert_exporter": "python",
   "pygments_lexer": "ipython3",
   "version": "3.12.5"
  }
 },
 "nbformat": 4,
 "nbformat_minor": 5
}
